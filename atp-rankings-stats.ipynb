{
 "nbformat": 4,
 "nbformat_minor": 2,
 "metadata": {
  "language_info": {
   "name": "python",
   "codemirror_mode": {
    "name": "ipython",
    "version": 3
   }
  },
  "orig_nbformat": 2,
  "file_extension": ".py",
  "mimetype": "text/x-python",
  "name": "python",
  "npconvert_exporter": "python",
  "pygments_lexer": "ipython3",
  "version": 3
 },
 "cells": [
  {
   "cell_type": "code",
   "execution_count": 15,
   "metadata": {},
   "outputs": [],
   "source": [
    "import os\n",
    "import pandas as pd\n",
    "import numpy as np"
   ]
  },
  {
   "cell_type": "code",
   "execution_count": 16,
   "metadata": {},
   "outputs": [],
   "source": [
    "!mkdir -p data/\n",
    "if not os.path.exists('data/rankings_1973-2017.csv'):\n",
    "    !curl -sSL -o data/rankings_1973-2017.csv https://datahub.io/sports-data/atp-world-tour-tennis-data/r/rankings_1973-2017.csv\n",
    "\n",
    "atp_rankings = pd.read_csv('data/rankings_1973-2017.csv')"
   ]
  },
  {
   "cell_type": "code",
   "execution_count": 17,
   "metadata": {},
   "outputs": [],
   "source": [
    "def find_all_years(df):\n",
    "    all_years = df['week_year'].unique()\n",
    "    all_years.sort()\n",
    "    all_years_list = all_years.tolist()\n",
    "    return all_years_list\n",
    "\n",
    "def find_last_date(df, year):\n",
    "    search_year = df[df['week_year'] == year]\n",
    "    search_month = sorted(search_year['week_month'].unique())[-1]\n",
    "    search_year_search_month = search_year[search_year['week_month'] == search_month]\n",
    "    search_day = sorted(search_year_search_month['week_day'].unique())[-1]\n",
    "    return search_month, search_day\n",
    "\n",
    "def year_end_top_100(df, year):\n",
    "    last_month, last_day = find_last_date(df, year)\n",
    "    search_year = df[df['week_year'] == year]\n",
    "    year_end_month = search_year[search_year['week_month'] == last_month]\n",
    "    year_end_day = year_end_month[year_end_month['week_day'] == last_day]\n",
    "    sorted_top = year_end_day.sort_values(by=['rank_number'])\n",
    "    top_100 = sorted_top[:100]\n",
    "    age_top_100 = top_100['player_age'].values\n",
    "    age_top_100_list = age_top_100.tolist()\n",
    "    return age_top_100_list\n",
    "\n",
    "def year_end_rank(df, year):\n",
    "    last_month, last_day = find_last_date(df, year)\n",
    "    search_year = df[df['week_year'] == year]\n",
    "    year_end_month = search_year[search_year['week_month'] == last_month]\n",
    "    year_end_day = year_end_month[year_end_month['week_day'] == last_day]\n",
    "    sorted_top = year_end_day.sort_values(by=['rank_number'])\n",
    "    return sorted_top\n",
    "\n",
    "def find_youngest_in_top_100(df, year):\n",
    "    last_month, last_day = find_last_date(df, year)\n",
    "    search_year = df[df['week_year'] == year]\n",
    "    year_end_month = search_year[search_year['week_month'] == last_month]\n",
    "    year_end_day = year_end_month[year_end_month['week_day'] == last_day]\n",
    "    sorted_top = year_end_day.sort_values(by=['rank_number'])\n",
    "    top_100 = sorted_top[:100]\n",
    "    find_youngest = sorted(top_100['player_age'].unique())[0]\n",
    "    return find_youngest\n",
    "\n",
    "def find_oldest_in_top_100(df, year):\n",
    "    last_month, last_day = find_last_date(df, year)\n",
    "    search_year = df[df['week_year'] == year]\n",
    "    year_end_month = search_year[search_year['week_month'] == last_month]\n",
    "    year_end_day = year_end_month[year_end_month['week_day'] == last_day]\n",
    "    sorted_top = year_end_day.sort_values(by=['rank_number'])\n",
    "    top_100 = sorted_top[:100]\n",
    "    find_oldest = sorted(top_100['player_age'].unique())[-1]\n",
    "    return find_oldest"
   ]
  },
  {
   "cell_type": "code",
   "execution_count": null,
   "metadata": {},
   "outputs": [],
   "source": [
    "averages_for_every_year = []\n",
    "for year in find_all_years(atp_rankings):\n",
    "   average_100 = np.mean(year_end_top_100(atp_rankings, year))\n",
    "   averages_for_every_year.append(average_100)\n",
    "\n",
    "youngest_for_every_year = []\n",
    "for year in find_all_years(atp_rankings):\n",
    "   youngest = find_youngest_in_top_100(atp_rankings, year)\n",
    "   youngest_for_every_year.append(youngest)\n",
    "\n",
    "oldest_for_every_year = []\n",
    "for year in find_all_years(atp_rankings):\n",
    "   oldest = find_oldest_in_top_100(atp_rankings, year)\n",
    "   oldest_for_every_year.append(oldest)"
   ]
  },
  {
   "cell_type": "code",
   "execution_count": 18,
   "metadata": {},
   "outputs": [],
   "source": [
    "print(find_oldest_in_top_100(atp_rankings, 2017))"
   ]
  },
  {
   "cell_type": "code",
   "execution_count": null,
   "metadata": {},
   "outputs": [],
   "source": [
    "year_1976 = year_end_top_100(atp_rankings, 1976) #problem: 'nan' instead of 23\n",
    "year_end_1980 = year_end_rank(atp_rankings, 1980) #problem: only two rows"
   ]
  }
 ]
}
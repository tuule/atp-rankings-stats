{
 "cells": [
  {
   "cell_type": "markdown",
   "execution_count": 1,
   "metadata": {},
   "outputs": [
    {
     "name": "stdout",
     "output_type": "stream",
     "text": "/bin/sh: -c: line 0: syntax error near unexpected token `img/atp-stats-analysis.jpg'\n/bin/sh: -c: line 0: `[title](img/atp-stats-analysis.jpg)'\n"
    }
   ],
   "source": [
    "![title](img/atp-stats-analysis.jpg)"
   ]
  },
  {
   "cell_type": "markdown",
   "execution_count": null,
   "metadata": {},
   "outputs": [],
   "source": [
    "# ATP ranking stats"
   ]
  },
  {
   "cell_type": "markdown",
   "execution_count": null,
   "metadata": {},
   "outputs": [],
   "source": [
    " Importing the required libraries."
   ]
  },
  {
   "cell_type": "code",
   "execution_count": 1,
   "metadata": {},
   "outputs": [],
   "source": [
    "import os\n",
    "import pandas as pd\n",
    "import numpy as np\n",
    "import matplotlib.pyplot as plt\n",
    "import seaborn as sns"
   ]
  },
  {
   "cell_type": "markdown",
   "execution_count": null,
   "metadata": {},
   "outputs": [],
   "source": [
    "## Data"
   ]
  },
  {
   "cell_type": "markdown",
   "execution_count": null,
   "metadata": {},
   "outputs": [],
   "source": [
    "The source of this project's data is [ATP World Tour tennis data](https://datahub.io/sports-data/atp-world-tour-tennis-data/r/rankings_1973-2017.csv)."
   ]
  },
  {
   "cell_type": "code",
   "execution_count": 2,
   "metadata": {},
   "outputs": [],
   "source": [
    "!mkdir -p data/\n",
    "if not os.path.exists('data/rankings_1973-2017.csv'):\n",
    "    !curl -sSL -o data/rankings_1973-2017.csv https://datahub.io/sports-data/atp-world-tour-tennis-data/r/rankings_1973-2017.csv"
   ]
  },
  {
   "cell_type": "code",
   "execution_count": 3,
   "metadata": {},
   "outputs": [],
   "source": [
    "atp_rankings = pd.read_csv('data/rankings_1973-2017.csv', dtype={'week_title': object, 'week_year': int, 'week_month': int, 'week_day': int, 'rank_text': object, 'rank_number': int, 'move_position': float, 'move_direction': object, 'player_age': float, 'ranking_points': int, 'tourneys_played': int, 'player_url': object, 'player_slug': object, 'player_id': object})"
   ]
  },
  {
   "cell_type": "markdown",
   "execution_count": null,
   "metadata": {},
   "outputs": [],
   "source": [
    "First of all, let's take a look at the size of our data set. The shape attribute gives us the total number of rows and the total number of columns in our data structure."
   ]
  },
  {
   "cell_type": "code",
   "execution_count": 0,
   "metadata": {},
   "outputs": [],
   "source": [
    "atp_rankings.shape"
   ]
  },
  {
   "cell_type": "markdown",
   "execution_count": null,
   "metadata": {},
   "outputs": [],
   "source": [
    "We can also look at what type of data each column contains."
   ]
  },
  {
   "cell_type": "code",
   "execution_count": 0,
   "metadata": {},
   "outputs": [],
   "source": [
    "atp_rankings.dtypes"
   ]
  },
  {
   "cell_type": "markdown",
   "execution_count": null,
   "metadata": {},
   "outputs": [],
   "source": [
    "## Sorting data"
   ]
  },
  {
   "cell_type": "markdown",
   "execution_count": null,
   "metadata": {},
   "outputs": [],
   "source": [
    "Since we don't need to use the whole data set for our project and only need columns titled week_year, week_month, week_day, rank_number and player_age, let's create a data subset of the selected columns and assign this value to a new variable."
   ]
  },
  {
   "cell_type": "code",
   "execution_count": 0,
   "metadata": {},
   "outputs": [],
   "source": [
    "rankings_subset = atp_rankings[['week_year', 'week_month', 'week_day', 'rank_number', 'player_age', 'player_slug']]"
   ]
  },
  {
   "cell_type": "markdown",
   "execution_count": null,
   "metadata": {},
   "outputs": [],
   "source": [
    "A common occurrence in data sets is missing data. This can have a considerable effect on the conclusions that can be drawn from the data. Therefore, let's take a look at how much missing data is in our data set. We can use the isnull method from numpy to count how many values in our data set are missing. The isnull method also allows us to look at specific columns of our data."
   ]
  },
  {
   "cell_type": "code",
   "execution_count": 0,
   "metadata": {},
   "outputs": [],
   "source": [
    "print('The amount of missing data:',(np.count_nonzero(rankings_subset.isnull())))\n",
    "print('The amount of missing data in the years column:',(np.count_nonzero(rankings_subset['week_year'].isnull())))\n",
    "print('The amount of missing data in the rankings column:', (np.count_nonzero(rankings_subset['rank_number'].isnull())))\n",
    "print('The amount of missing data in the players age column:', (np.count_nonzero(rankings_subset['player_age'].isnull())))"
   ]
  },
  {
   "cell_type": "markdown",
   "execution_count": null,
   "metadata": {},
   "outputs": [],
   "source": [
    "Since all of the missing values are in the player_age column, we'll need to keep that in mind once we start analysing the data."
   ]
  },
  {
   "cell_type": "markdown",
   "execution_count": null,
   "metadata": {},
   "outputs": [],
   "source": [
    "In the tennis ranking system a player's ranking is based on the cumulative amount of points earned at tournaments in the previous 52 weeks. Therefore, the rankings catch up to the season only at the end of the year when a player's ranking includes solely the events of the current year. That is why year-end rankings from each year are the best evaluators of a player’s performance from that calendar year. In order to find the year-end rankings we need to sort through the data and find the last set of rankings from each year."
   ]
  },
  {
   "cell_type": "code",
   "execution_count": 0,
   "metadata": {},
   "outputs": [],
   "source": [
    "def find_all_years(df):\n",
    "    all_years = df['week_year'].unique()\n",
    "    all_years.sort()\n",
    "    all_years_list = all_years.tolist()\n",
    "    return all_years_list\n",
    "\n",
    "def find_last_date(df, year):\n",
    "    search_year = df[df['week_year'] == year]\n",
    "    search_month = sorted(search_year['week_month'].unique())[-1]\n",
    "    search_year_search_month = search_year[search_year['week_month'] == search_month]\n",
    "    search_day = sorted(search_year_search_month['week_day'].unique())[-1]\n",
    "    return search_month, search_day\n",
    "\n",
    "def year_end_top_100(df, year):\n",
    "    last_month, last_day = find_last_date(df, year)\n",
    "    search_year = df[df['week_year'] == year]\n",
    "    year_end_month = search_year[search_year['week_month'] == last_month]\n",
    "    year_end_day = year_end_month[year_end_month['week_day'] == last_day]\n",
    "    sorted_top = year_end_day.sort_values(by=['rank_number'])\n",
    "    top_100 = sorted_top[:100]\n",
    "    return top_100"
   ]
  },
  {
   "cell_type": "markdown",
   "execution_count": null,
   "metadata": {},
   "outputs": [],
   "source": [
    "Let's take a look at what year's rankings are in the data set."
   ]
  },
  {
   "cell_type": "code",
   "execution_count": 0,
   "metadata": {},
   "outputs": [],
   "source": [
    "print(find_all_years(rankings_subset))"
   ]
  },
  {
   "cell_type": "markdown",
   "execution_count": null,
   "metadata": {},
   "outputs": [],
   "source": [
    "Now let's see if we can find the five highest ranked players from 2017."
   ]
  },
  {
   "cell_type": "code",
   "execution_count": 0,
   "metadata": {},
   "outputs": [],
   "source": [
    "year_end_top_100(rankings_subset, 2017).head()"
   ]
  },
  {
   "cell_type": "markdown",
   "execution_count": null,
   "metadata": {},
   "outputs": [],
   "source": [
    "We are going to sort out the top 100 players from each year based on the last rankings of that year and put them together into one data set using the concat method from pandas."
   ]
  },
  {
   "cell_type": "code",
   "execution_count": 0,
   "metadata": {},
   "outputs": [],
   "source": [
    "appended_df = []\n",
    "for year in find_all_years(rankings_subset):\n",
    "    subset_year = year_end_top_100(rankings_subset, year)\n",
    "    appended_df.append(subset_year)\n",
    "appended_df = pd.concat(appended_df)"
   ]
  },
  {
   "cell_type": "markdown",
   "execution_count": null,
   "metadata": {},
   "outputs": [],
   "source": [
    "When we look at the new data set we find that most of the data from 1980, 1981 and 1982 is missing, from 1983 half of the data is missing, and one entry is missing from 1976. However, from every other year we have a complete year-end top 100."
   ]
  },
  {
   "cell_type": "code",
   "execution_count": 0,
   "metadata": {},
   "outputs": [],
   "source": [
    "appended_df.groupby('week_year').size()"
   ]
  },
  {
   "cell_type": "markdown",
   "execution_count": null,
   "metadata": {},
   "outputs": [],
   "source": [
    "From that data frame we will break down each calculation by year and look at the average age of players, the age of the youngest player and the age of the oldest player. The groupby statement takes the week_year column and splits our data by unique values of that column. Then it will calculate the mean, min and max of each subset (excluding NaN values) and return a single data frame."
   ]
  },
  {
   "cell_type": "code",
   "execution_count": 0,
   "metadata": {},
   "outputs": [],
   "source": [
    "average_age = appended_df.groupby('week_year')['player_age'].agg(average_age=pd.NamedAgg(column='average_age', aggfunc='mean'), youngest=pd.NamedAgg(column='youngest', aggfunc='min'), oldest=pd.NamedAgg(column='oldest', aggfunc='max'))\n",
    "average_age.head(n=10)"
   ]
  },
  {
   "cell_type": "markdown",
   "execution_count": null,
   "metadata": {},
   "outputs": [],
   "source": [
    "Because we don't want to include incomplete data, we use the .drop method from pandas to remove data from from 1980, 1981 and 1982."
   ]
  },
  {
   "cell_type": "code",
   "execution_count": 0,
   "metadata": {},
   "outputs": [],
   "source": [
    "clean_data = average_age.drop(average_age.index[[7,8,9]])\n",
    "clean_data.head(n=10)"
   ]
  },
  {
   "cell_type": "markdown",
   "execution_count": 60,
   "metadata": {},
   "outputs": [
    {
     "name": "stdout",
     "output_type": "stream",
     "text": "week_year\n1973    26.450000\n1974    26.760000\n1975    26.620000\n1976    26.949495\n1977    27.010000\nName: player_age, dtype: float64\n"
    }
   ],
   "source": [
    "Now it is time to take the above data and use Python's plotting library matplotlib to plot it."
   ]
  },
  {
   "cell_type": "markdown",
   "execution_count": null,
   "metadata": {},
   "outputs": [],
   "source": [
    "## Plotting data"
   ]
  },
  {
   "cell_type": "code",
   "execution_count": 0,
   "metadata": {},
   "outputs": [],
   "source": [
    "data_graph = clean_data.plot()\n",
    "data_graph.set_title('Analysing ATP rankings data')\n",
    "data_graph.set_xlabel('Year')\n",
    "data_graph.set_ylabel('Age')"
   ]
  },
  {
   "cell_type": "markdown",
   "execution_count": null,
   "metadata": {},
   "outputs": [],
   "source": [
    "We can see that the average age of players in the top 100 at the end of each year has been steadily increasing from the late 1980s and has never been as high as it is at the moment. The age of the oldest player and the youngest player doesn't seem to have a drastic effect on the average but it's interesting to see nonetheless."
   ]
  },
  {
   "cell_type": "code",
   "execution_count": 0,
   "metadata": {},
   "outputs": [],
   "source": [
    "data1 = clean_data.plot(y='average_age')\n",
    "data1.set_title('Average age of a player in the year-end top 100')\n",
    "data1.set_xlabel('Year')\n",
    "data1.set_ylabel('Age')\n",
    "data_graph.set_ylabel('Age')"
   ]
  },
  {
   "cell_type": "code",
   "execution_count": 0,
   "metadata": {},
   "outputs": [],
   "source": [
    "data2 = clean_data.plot(y='oldest')\n",
    "data2.set_title('Age of the oldest player in the year-end top 100')\n",
    "data2.set_xlabel('Year')\n",
    "data2.set_ylabel('Age')\n",
    "data3 = clean_data.plot(y='youngest')\n",
    "data3.set_title('Age of the youngest player in the year-end top 100')\n",
    "data3.set_xlabel('Year')\n",
    "data3.set_ylabel('Age')"
   ]
  },
  {
   "cell_type": "markdown",
   "execution_count": null,
   "metadata": {},
   "outputs": [],
   "source": [
    "In the youngest players graph we can see that there was a very young player (aged 12) somewhere between 1975 and 1980. Since this seems a bit too young for a professional tennis player, we will take a closer look at that. Furthermore, when we look at the oldest player graph we see that there are some unusually high values between 1975 and 1980. This also needs some looking into because we want to make sure that we don't have any incorrect data there."
   ]
  },
  {
   "cell_type": "code",
   "execution_count": 0,
   "metadata": {},
   "outputs": [],
   "source": [
    "average_age = appended_df.groupby('week_year')['player_age'].agg(youngest=pd.NamedAgg(column='youngest', aggfunc='min'))\n",
    "average_age.head(n=6)"
   ]
  },
  {
   "cell_type": "markdown",
   "execution_count": null,
   "metadata": {},
   "outputs": [],
   "source": [
    "When we look at rankings from 1977 on the ATP website we find a player named Danny Granot who is listed as born in 1965 but actually competed between 1992 and 1997. Therefore it must be an error and instead the youngest player in the top 100 of that year was John McEnroe who was 18 years old at the time. Since there is only one value 12 in the youngest column we can use pandas replace method to insert the correct value into our data set.\n",
    "\n",
    "When we look at rankings from 1973 on the ATP website we see that the oldest player in the top 100 at the end of that year was Ken Rosewall (born in 1934) and because he continued to compete at a high level for many years to come, he was also the oldest player in the next five year-end rankings. So the oldest player in the 1978 rankings was Ken Rosewall, aged 44 that year and it is indeed the correct value."
   ]
  },
  {
   "cell_type": "code",
   "execution_count": 0,
   "metadata": {},
   "outputs": [],
   "source": [
    "clean_data.youngest = clean_data.youngest.replace({12.0: 18})\n",
    "clean_data.head(n=6)"
   ]
  },
  {
   "cell_type": "markdown",
   "execution_count": null,
   "metadata": {},
   "outputs": [],
   "source": [
    "Let's take a look at the graph again now that we have the correct values in the data set."
   ]
  },
  {
   "cell_type": "code",
   "execution_count": 0,
   "metadata": {},
   "outputs": [],
   "source": [
    "data4 = clean_data.plot(y='youngest')\n",
    "data4.set_title('Age of the youngest player in the year-end top 100')\n",
    "data4.set_xlabel('Year')\n",
    "data4.set_ylabel('Age')"
   ]
  },
  {
   "cell_type": "markdown",
   "execution_count": null,
   "metadata": {},
   "outputs": [],
   "source": [
    "## Other possibilities"
   ]
  },
  {
   "cell_type": "markdown",
   "execution_count": null,
   "metadata": {},
   "outputs": [],
   "source": [
    "Another way to visualize data is to use Seaborn. Seaborn is a plotting library just like matplotlib and it is in fact built on top of matplotlib and closely integrated with pandas data structures. It will give us plots that look more sophisticated."
   ]
  },
  {
   "cell_type": "code",
   "execution_count": 0,
   "metadata": {},
   "outputs": [],
   "source": [
    "sns.lineplot(data=clean_data)"
   ]
  },
  {
   "cell_type": "markdown",
   "execution_count": null,
   "metadata": {},
   "outputs": [],
   "source": [
    "In addition, it would be interesting to find out how many players under the age of 18 or 21 (i.e. teenagers) are in the top 100 at the end of each year, since this would give some additional information about how men's professional tennis has changed and evolved over the years."
   ]
  },
  {
   "cell_type": "code",
   "execution_count": null,
   "metadata": {},
   "outputs": [],
   "source": []
  }
 ],
 "metadata": {
  "file_extension": ".py",
  "kernelspec": {
   "display_name": "Python 3",
   "language": "python",
   "name": "python3"
  },
  "language_info": {
   "codemirror_mode": {
    "name": "ipython",
    "version": 3
   },
   "file_extension": ".py",
   "mimetype": "text/x-python",
   "name": "python",
   "nbconvert_exporter": "python",
   "pygments_lexer": "ipython3",
   "version": "3.7.4"
  },
  "mimetype": "text/x-python",
  "name": "python",
  "npconvert_exporter": "python",
  "pygments_lexer": "ipython3",
  "version": 3
 },
 "nbformat": 4,
 "nbformat_minor": 2
}